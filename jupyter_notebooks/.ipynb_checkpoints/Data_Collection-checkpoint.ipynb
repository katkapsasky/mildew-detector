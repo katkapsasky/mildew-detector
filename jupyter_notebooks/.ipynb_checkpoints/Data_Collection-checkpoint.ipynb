{
 "cells": [
  {
   "cell_type": "markdown",
   "metadata": {
    "id": "0aStgWSO0E0E"
   },
   "source": [
    "# Data Collection and Preparation"
   ]
  },
  {
   "cell_type": "markdown",
   "metadata": {},
   "source": [
    "---"
   ]
  },
  {
   "cell_type": "markdown",
   "metadata": {
    "id": "1eLEkw5O0ECa"
   },
   "source": [
    "## Objectives\n",
    "\n",
    "* Import packages\n",
    "* Change working directory\n",
    "* Install Kaggle\n",
    "* Clean data\n",
    "* Split train, validation and test sets\n",
    "\n",
    "## Inputs\n",
    "\n",
    "* Kaggle JSON file - authentication token\n",
    "\n",
    "## Outputs\n",
    "\n",
    "* Generate dataset: inputs/cherry_leaves_dataset/cherry-leaves\n",
    "* Split dataset into train, validation and test\n",
    "\n",
    "## Additional Comments\n",
    "\n",
    "* Once business requirements have been identified, data collection and cleaning are the first steps in developing a Machine Learning model\n",
    "* As we are developing a model for image analysis it's important to clean the data by removing non-image files\n",
    "* We split the data - training and validation sets are necessary to check model overfitting or underfitting performance, the test set is required to find the generalised performance of the model"
   ]
  },
  {
   "cell_type": "markdown",
   "metadata": {
    "id": "9uWZXH9LwoQg"
   },
   "source": [
    "---"
   ]
  },
  {
   "cell_type": "markdown",
   "metadata": {
    "id": "cqP-UeN-z3i2"
   },
   "source": [
    "## Import packages"
   ]
  },
  {
   "cell_type": "code",
   "execution_count": null,
   "metadata": {},
   "outputs": [],
   "source": [
    "import numpy\n",
    "import os"
   ]
  },
  {
   "cell_type": "markdown",
   "metadata": {
    "id": "aOGIGS-uz3i2"
   },
   "source": [
    "## Change working directory"
   ]
  },
  {
   "cell_type": "markdown",
   "metadata": {
    "id": "9MWW8E7lz3i7"
   },
   "source": [
    "These notebooks are stored in a subfolder of the current directory, therefore when running the notebook in the editor, we need to change the working directory from its current folder to its parent folder."
   ]
  },
  {
   "cell_type": "markdown",
   "metadata": {},
   "source": [
    "* We access the current directory with os.getcwd()"
   ]
  },
  {
   "cell_type": "code",
   "execution_count": null,
   "metadata": {},
   "outputs": [],
   "source": [
    "current_dir = os.getcwd()\n",
    "current_dir"
   ]
  },
  {
   "cell_type": "markdown",
   "metadata": {},
   "source": [
    "* We want to make the parent of the current directory the new current directory"
   ]
  },
  {
   "cell_type": "code",
   "execution_count": null,
   "metadata": {},
   "outputs": [],
   "source": [
    "os.chdir('/workspaces/mildew-detector')\n",
    "print(\"You set a new current directory\")"
   ]
  },
  {
   "cell_type": "markdown",
   "metadata": {
    "id": "M_xPk_Ijz3i-"
   },
   "source": [
    "* Confirm the new current directory"
   ]
  },
  {
   "cell_type": "code",
   "execution_count": null,
   "metadata": {
    "id": "vz3S-_kjz3jA",
    "outputId": "00b79ae4-75d0-4a96-d193-ac9ef9847ea2"
   },
   "outputs": [],
   "source": [
    "current_dir = os.getcwd()\n",
    "current_dir"
   ]
  },
  {
   "cell_type": "markdown",
   "metadata": {
    "id": "-mavJ8DibrcQ"
   },
   "source": [
    "## Install Kaggle"
   ]
  },
  {
   "cell_type": "code",
   "execution_count": null,
   "metadata": {},
   "outputs": [],
   "source": [
    "!pip install kaggle"
   ]
  },
  {
   "cell_type": "markdown",
   "metadata": {
    "id": "ZY3l0-AxO93d"
   },
   "source": [
    "* Change kaggle configuration directory to current working directory\n",
    "* Set permission of kaggle authentication json"
   ]
  },
  {
   "cell_type": "code",
   "execution_count": null,
   "metadata": {
    "id": "uFQo3ycuO-v6"
   },
   "outputs": [],
   "source": [
    "os.environ['KAGGLE_CONFIG_DIR'] = os.getcwd()\n",
    "! chmod 600 kaggle.json"
   ]
  },
  {
   "cell_type": "markdown",
   "metadata": {},
   "source": [
    "* Download dataset from kaggle url path\n",
    "* Set destination folder"
   ]
  },
  {
   "cell_type": "code",
   "execution_count": null,
   "metadata": {},
   "outputs": [],
   "source": [
    "KaggleDatasetPath = \"codeinstitute/cherry-leaves\"\n",
    "DestinationFolder = \"inputs/cherry_leaves_dataset\"   \n",
    "! kaggle datasets download -d {KaggleDatasetPath} -p {DestinationFolder}"
   ]
  },
  {
   "cell_type": "markdown",
   "metadata": {},
   "source": [
    "* Unzip downloaded file\n",
    "* Delete zip file"
   ]
  },
  {
   "cell_type": "code",
   "execution_count": null,
   "metadata": {},
   "outputs": [],
   "source": [
    "import zipfile\n",
    "with zipfile.ZipFile(DestinationFolder + '/cherry-leaves.zip', 'r') as zip_ref:\n",
    "    zip_ref.extractall(DestinationFolder)\n",
    "\n",
    "os.remove(DestinationFolder + '/cherry-leaves.zip')"
   ]
  },
  {
   "cell_type": "markdown",
   "metadata": {},
   "source": [
    "---"
   ]
  },
  {
   "cell_type": "markdown",
   "metadata": {},
   "source": [
    "## Data Preparation"
   ]
  },
  {
   "cell_type": "markdown",
   "metadata": {
    "id": "ltNetd085qHf"
   },
   "source": [
    "### Data Cleaning"
   ]
  },
  {
   "cell_type": "markdown",
   "metadata": {},
   "source": [
    "* Check for and remove non-image files"
   ]
  },
  {
   "cell_type": "code",
   "execution_count": null,
   "metadata": {
    "id": "aKlnIozA4eQO",
    "outputId": "fd09bc1f-adb1-4511-f6ce-492a6af570c0"
   },
   "outputs": [],
   "source": [
    "def remove_non_image_file(my_data_dir):\n",
    "    image_extension = ('.png', '.jpg', '.jpeg')\n",
    "    folders = os.listdir(my_data_dir) \n",
    "    for folder in folders:\n",
    "        files = os.listdir(my_data_dir + '/' + folder)\n",
    "        \n",
    "            #print(files)\n",
    "        i = []\n",
    "        j = []\n",
    "        for given_file in files:\n",
    "            if not given_file.lower().endswith(image_extension):\n",
    "                file_location = my_data_dir + '/' + folder + '/' + given_file\n",
    "                os.remove(file_location) # remove non image file\n",
    "                i.append(1)\n",
    "            else:\n",
    "                j.append(1)\n",
    "                pass\n",
    "        print(f\"Folder: {folder} - has {len(j)} image files\")\n",
    "        print(f\"Folder: {folder} - has {len(i)} non-image files\")"
   ]
  },
  {
   "cell_type": "code",
   "execution_count": null,
   "metadata": {},
   "outputs": [],
   "source": [
    "remove_non_image_file(my_data_dir='inputs/cherry_leaves_dataset/cherry-leaves')"
   ]
  },
  {
   "cell_type": "markdown",
   "metadata": {},
   "source": [
    "### Split Train, Validation and Test sets"
   ]
  },
  {
   "cell_type": "code",
   "execution_count": null,
   "metadata": {},
   "outputs": [],
   "source": [
    "import os\n",
    "import shutil\n",
    "import random\n",
    "import joblib\n",
    "\n",
    "def split_train_validation_test_images(my_data_dir, train_set_ratio, validation_set_ratio, test_set_ratio):\n",
    "  \n",
    "  if train_set_ratio + validation_set_ratio + test_set_ratio != 1.0:\n",
    "    print(\"train_set_ratio + validation_set_ratio + test_set_ratio should sum 1.0\")\n",
    "    return\n",
    "\n",
    "  # gets classes labels\n",
    "  labels = os.listdir(my_data_dir) # it should get only the folder name\n",
    "  if 'test' in labels:\n",
    "    pass\n",
    "  else: \n",
    "    # create train, test folders with classess labels sub-folder\n",
    "    for folder in ['train','validation','test']:\n",
    "      for label in labels:\n",
    "        os.makedirs(name=my_data_dir+ '/' + folder + '/' + label)\n",
    "\n",
    "    for label in labels:\n",
    "\n",
    "      files = os.listdir(my_data_dir + '/' + label)\n",
    "      random.shuffle(files)\n",
    "\n",
    "      train_set_files_qty = int(len(files) * train_set_ratio)\n",
    "      validation_set_files_qty = int(len(files) * validation_set_ratio)\n",
    "\n",
    "      count = 1\n",
    "      for file_name in files:\n",
    "        if count <= train_set_files_qty:\n",
    "          # move given file to train set\n",
    "          shutil.move(my_data_dir + '/' + label + '/' + file_name,\n",
    "                      my_data_dir + '/train/' + label + '/' + file_name)\n",
    "          \n",
    "\n",
    "        elif count <= (train_set_files_qty + validation_set_files_qty ):\n",
    "          # move given file to validation set\n",
    "          shutil.move(my_data_dir + '/' + label + '/' + file_name,\n",
    "                      my_data_dir + '/validation/' + label + '/' + file_name)\n",
    "\n",
    "        else:\n",
    "          # move given file to test set\n",
    "          shutil.move(my_data_dir + '/' + label + '/' + file_name,\n",
    "                  my_data_dir + '/test/' +label + '/'+ file_name)\n",
    "          \n",
    "        count += 1\n",
    "\n",
    "      os.rmdir(my_data_dir + '/' + label)"
   ]
  },
  {
   "cell_type": "markdown",
   "metadata": {},
   "source": [
    "Following convention,\n",
    "\n",
    "* The training set is divided into a 0.70 ratio of the data\n",
    "* The validation set is divided into a 0.10 ratio of the data\n",
    "* The test set is divided into a 0.20 ratio of the data"
   ]
  },
  {
   "cell_type": "code",
   "execution_count": null,
   "metadata": {},
   "outputs": [],
   "source": [
    "split_train_validation_test_images(my_data_dir = f\"inputs/cherry_leaves_dataset/cherry-leaves\",\n",
    "                        train_set_ratio = 0.7,\n",
    "                        validation_set_ratio=0.1,\n",
    "                        test_set_ratio=0.2\n",
    "                        )"
   ]
  },
  {
   "cell_type": "markdown",
   "metadata": {},
   "source": [
    "---"
   ]
  },
  {
   "cell_type": "markdown",
   "metadata": {},
   "source": [
    "## Push files to Repo"
   ]
  },
  {
   "cell_type": "markdown",
   "metadata": {},
   "source": [
    "* Uncomment code if required"
   ]
  },
  {
   "cell_type": "code",
   "execution_count": null,
   "metadata": {},
   "outputs": [],
   "source": [
    "# import os\n",
    "# try:\n",
    "#     # create here your folder\n",
    "#     # os.makedirs(name='')\n",
    "# except Exception as e:\n",
    "#     print(e)"
   ]
  }
 ],
 "metadata": {
  "accelerator": "GPU",
  "colab": {
   "name": "Data Practitioner Jupyter Notebook.ipynb",
   "provenance": [],
   "toc_visible": true
  },
  "interpreter": {
   "hash": "8b8334dab9339717f727a1deaf837b322d7a41c20d15cc86be99a8e69ceec8ce"
  },
  "kernelspec": {
   "display_name": "Python 3 (ipykernel)",
   "language": "python",
   "name": "python3"
  },
  "language_info": {
   "codemirror_mode": {
    "name": "ipython",
    "version": 3
   },
   "file_extension": ".py",
   "mimetype": "text/x-python",
   "name": "python",
   "nbconvert_exporter": "python",
   "pygments_lexer": "ipython3",
   "version": "3.8.12"
  }
 },
 "nbformat": 4,
 "nbformat_minor": 2
}
